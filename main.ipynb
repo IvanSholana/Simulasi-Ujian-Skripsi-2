{
 "cells": [
  {
   "cell_type": "code",
   "execution_count": 3,
   "metadata": {},
   "outputs": [
    {
     "name": "stderr",
     "output_type": "stream",
     "text": [
      "c:\\Users\\Asus\\anaconda3\\envs\\genai\\lib\\site-packages\\tqdm\\auto.py:21: TqdmWarning: IProgress not found. Please update jupyter and ipywidgets. See https://ipywidgets.readthedocs.io/en/stable/user_install.html\n",
      "  from .autonotebook import tqdm as notebook_tqdm\n",
      "Failed to send telemetry event ClientStartEvent: module 'chromadb' has no attribute '__version__'\n",
      "Failed to send telemetry event ClientCreateCollectionEvent: module 'chromadb' has no attribute '__version__'\n",
      "Failed to send telemetry event ClientCreateCollectionEvent: module 'chromadb' has no attribute '__version__'\n"
     ]
    }
   ],
   "source": [
    "from utils.document.split_document import DocumentPreparation\n",
    "from utils.vector_database.create_vdb import VectorDatabase\n",
    "from langchain_openai import OpenAIEmbeddings\n",
    "\n",
    "\n",
    "document = DocumentPreparation(data_path=\"./Akuisisi Jarak Jauh Berbasis Web Django untuk Smartphone – Remote Acquisition for Android Smartphone (RAAS).pdf\")\n",
    "embeddings = OpenAIEmbeddings(model=\"text-embedding-ada-002\")\n",
    "\n",
    "vector_db = VectorDatabase(collection_name=\"test-db\", embeddings=embeddings,document=document)"
   ]
  },
  {
   "cell_type": "code",
   "execution_count": 10,
   "metadata": {},
   "outputs": [],
   "source": [
    "retrieved_document = vector_db.search(query=\"kenapa penelitian ini penting?\")"
   ]
  },
  {
   "cell_type": "code",
   "execution_count": 1,
   "metadata": {},
   "outputs": [
    {
     "name": "stderr",
     "output_type": "stream",
     "text": [
      "c:\\Users\\Asus\\anaconda3\\envs\\genai\\lib\\site-packages\\tqdm\\auto.py:21: TqdmWarning: IProgress not found. Please update jupyter and ipywidgets. See https://ipywidgets.readthedocs.io/en/stable/user_install.html\n",
      "  from .autonotebook import tqdm as notebook_tqdm\n"
     ]
    }
   ],
   "source": [
    "from utils.ai_agent.llm_agent import LLM_Agent\n",
    "\n",
    "agent = LLM_Agent(document_path=\"./Akuisisi Jarak Jauh Berbasis Web Django untuk Smartphone – Remote Acquisition for Android Smartphone (RAAS).pdf\")"
   ]
  },
  {
   "cell_type": "code",
   "execution_count": 4,
   "metadata": {},
   "outputs": [
    {
     "name": "stdout",
     "output_type": "stream",
     "text": [
      "{\n",
      "    \"question\": \"Bagaimana mekanisme enkripsi dan perlindungan data yang dikembangkan dalam penelitian ini untuk memastikan keamanan selama proses akuisisi jarak jauh?\",\n",
      "    \"answer\" : \"Mekanisme yang dikembangkan mencakup pengembangan protokol atau prosedur untuk memulai sesi netcat yang aman dan stabil, serta menyusun mekanisme untuk memastikan transfer data yang terenkripsi dan terproteksi.\"\n",
      "}\n"
     ]
    }
   ],
   "source": [
    "print(agent.create_question())"
   ]
  }
 ],
 "metadata": {
  "kernelspec": {
   "display_name": "genai",
   "language": "python",
   "name": "python3"
  },
  "language_info": {
   "codemirror_mode": {
    "name": "ipython",
    "version": 3
   },
   "file_extension": ".py",
   "mimetype": "text/x-python",
   "name": "python",
   "nbconvert_exporter": "python",
   "pygments_lexer": "ipython3",
   "version": "3.9.21"
  }
 },
 "nbformat": 4,
 "nbformat_minor": 2
}
