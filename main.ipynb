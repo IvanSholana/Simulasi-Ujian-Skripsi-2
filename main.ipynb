{
 "cells": [
  {
   "cell_type": "code",
   "execution_count": 2,
   "metadata": {},
   "outputs": [
    {
     "name": "stdout",
     "output_type": "stream",
     "text": [
      "Sukses menyintesis teks menjadi suara.\n",
      "app/static/audio/audio_question_20250311063920.mp3\n"
     ]
    }
   ],
   "source": [
    "from app.utils.ai_agent.llm_agent import LLM_Agent\n",
    "\n",
    "agent = LLM_Agent(document_path=\"./Akuisisi Jarak Jauh Berbasis Web Django untuk Smartphone – Remote Acquisition for Android Smartphone (RAAS).pdf\")\n",
    "\n",
    "print(agent.create_question())"
   ]
  }
 ],
 "metadata": {
  "kernelspec": {
   "display_name": "genai",
   "language": "python",
   "name": "python3"
  },
  "language_info": {
   "codemirror_mode": {
    "name": "ipython",
    "version": 3
   },
   "file_extension": ".py",
   "mimetype": "text/x-python",
   "name": "python",
   "nbconvert_exporter": "python",
   "pygments_lexer": "ipython3",
   "version": "3.9.21"
  }
 },
 "nbformat": 4,
 "nbformat_minor": 2
}
